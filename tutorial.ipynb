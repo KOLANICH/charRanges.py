{
	"cells": [{
			"cell_type": "code",
			"execution_count": 1,
			"id": "import",
			"metadata": {},
			"outputs": [],
			"source": [
				"from charRanges import *"
			]
		},
		{
			"cell_type": "markdown",
			"id": "stringToRanges-descr",
			"metadata": {},
			"source": [
				"`stringToRanges` generates a list of char ranges from a PCRE/ECMA-like char-class-like expression"
			]
		},
		{
			"cell_type": "code",
			"execution_count": 2,
			"id": "stringToRanges-code-alphanum",
			"metadata": {},
			"outputs": [{
				"data": {
					"text/plain": [
						"(range(48, 58), range(65, 91), range(97, 123), range(1040, 1104))"
					]
				},
				"execution_count": 2,
				"metadata": {},
				"output_type": "execute_result"
			}],
			"source": [
				"rs = stringToRanges(\"a-zA-Z0-9А-Яа-я\")\n",
				"rs"
			]
		},
		{
			"cell_type": "code",
			"execution_count": 12,
			"id": "stringToRanges-code-overlapping",
			"metadata": {},
			"outputs": [{
				"data": {
					"text/plain": [
						"(range(97, 106),)"
					]
				},
				"execution_count": 12,
				"metadata": {},
				"output_type": "execute_result"
			}],
			"source": [
				"stringToRanges(\"a-fc-i\")"
			]
		},
		{
			"cell_type": "code",
			"execution_count": 9,
			"id": "stringToRanges-code-dash",
			"metadata": {},
			"outputs": [{
				"data": {
					"text/plain": [
						"(range(45, 46),)"
					]
				},
				"execution_count": 9,
				"metadata": {},
				"output_type": "execute_result"
			}],
			"source": [
				"stringToRanges(\"-\")"
			]
		},
		{
			"cell_type": "code",
			"execution_count": 14,
			"id": "stringToRanges-code-end-dash",
			"metadata": {},
			"outputs": [{
				"data": {
					"text/plain": [
						"(range(45, 46), range(65, 66))"
					]
				},
				"execution_count": 14,
				"metadata": {},
				"output_type": "execute_result"
			}],
			"source": [
				"stringToRanges(\"-A-\")"
			]
		},
		{
			"cell_type": "markdown",
			"id": "multiRSub-descr",
			"metadata": {},
			"source": [
				"`multiRSub` subtracts multiple ranges taken from the SORTED iterable `ranges` from a `base` range. So it allows you to generate the things corresponding to negative char-class-like expressions. `base` argument allows you to specify the all allowed characters ranges."
			]
		},
		{
			"cell_type": "code",
			"execution_count": 6,
			"id": "multiRSub-code",
			"metadata": {},
			"outputs": [{
				"data": {
					"text/plain": [
						"[range(32, 48),\n",
						" range(58, 65),\n",
						" range(91, 97),\n",
						" range(123, 1040),\n",
						" range(1104, 1327)]"
					]
				},
				"execution_count": 6,
				"metadata": {},
				"output_type": "execute_result"
			}],
			"source": [
				"list(multiRSub(rs, base=range(32, ord(\"ԯ\"))))"
			]
		},
		{
			"cell_type": "markdown",
			"id": "ranges2CharClassRangedString-descr",
			"metadata": {},
			"source": [
				"`ranges2CharClassRangedString` allows you to generate a PCRE/ECMA-like char-class-like expression from a list of ranges"
			]
		},
		{
			"cell_type": "code",
			"execution_count": 15,
			"id": "ranges2CharClassRangedString-code",
			"metadata": {},
			"outputs": [{
				"data": {
					"text/plain": [
						"'0-9A-Za-zА-я'"
					]
				},
				"execution_count": 15,
				"metadata": {},
				"output_type": "execute_result"
			}],
			"source": [
				"ranges2CharClassRangedString(rs)"
			]
		}
	],
	"metadata": {
		"kernelspec": {
			"display_name": "Python 3",
			"language": "python",
			"name": "python3"
		},
		"language_info": {
			"codemirror_mode": {
				"name": "ipython",
				"version": 3
			},
			"file_extension": ".py",
			"mimetype": "text/x-python",
			"name": "python",
			"nbconvert_exporter": "python",
			"pygments_lexer": "ipython3",
			"version": "3.9.7"
		}
	},
	"nbformat": 4,
	"nbformat_minor": 5
}
